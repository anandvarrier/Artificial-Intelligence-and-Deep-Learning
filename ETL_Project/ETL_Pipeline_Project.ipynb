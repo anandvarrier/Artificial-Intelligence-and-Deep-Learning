{
 "cells": [
  {
   "cell_type": "markdown",
   "id": "6db0b095-b0a2-4621-8a4a-6f4bc528a164",
   "metadata": {},
   "source": [
    "Inspecting the data using Pandas library"
   ]
  },
  {
   "cell_type": "code",
   "execution_count": 9,
   "id": "7ebec350-b1c4-441b-82d7-6ce35bf4a6ab",
   "metadata": {},
   "outputs": [
    {
     "name": "stdout",
     "output_type": "stream",
     "text": [
      "C:\\Users\\AnandVarrier\\DA_Proj\n"
     ]
    }
   ],
   "source": [
    "import os\n",
    "print(os.getcwd())"
   ]
  },
  {
   "cell_type": "code",
   "execution_count": 13,
   "id": "9b36bb93-9abb-4216-9887-048c3f42dec3",
   "metadata": {},
   "outputs": [],
   "source": [
    "import pandas as pd\n",
    "\n",
    "file_path = r\"C:\\Users\\AnandVarrier\\DA_Proj/supermarket_sales_Sheet1.csv\"\n",
    "df = pd.read_csv(file_path)"
   ]
  },
  {
   "cell_type": "code",
   "execution_count": 15,
   "id": "970e3e0b-d87e-4d99-b010-aa5bd5df9293",
   "metadata": {},
   "outputs": [
    {
     "data": {
      "text/html": [
       "<div>\n",
       "<style scoped>\n",
       "    .dataframe tbody tr th:only-of-type {\n",
       "        vertical-align: middle;\n",
       "    }\n",
       "\n",
       "    .dataframe tbody tr th {\n",
       "        vertical-align: top;\n",
       "    }\n",
       "\n",
       "    .dataframe thead th {\n",
       "        text-align: right;\n",
       "    }\n",
       "</style>\n",
       "<table border=\"1\" class=\"dataframe\">\n",
       "  <thead>\n",
       "    <tr style=\"text-align: right;\">\n",
       "      <th></th>\n",
       "      <th>Invoice ID</th>\n",
       "      <th>Branch</th>\n",
       "      <th>City</th>\n",
       "      <th>Customer type</th>\n",
       "      <th>Gender</th>\n",
       "      <th>Product line</th>\n",
       "      <th>Unit price</th>\n",
       "      <th>Quantity</th>\n",
       "      <th>Tax 5%</th>\n",
       "      <th>Total</th>\n",
       "      <th>Date</th>\n",
       "      <th>Time</th>\n",
       "      <th>Payment</th>\n",
       "      <th>cogs</th>\n",
       "      <th>gross margin percentage</th>\n",
       "      <th>gross income</th>\n",
       "      <th>Rating</th>\n",
       "    </tr>\n",
       "  </thead>\n",
       "  <tbody>\n",
       "    <tr>\n",
       "      <th>0</th>\n",
       "      <td>750-67-8428</td>\n",
       "      <td>A</td>\n",
       "      <td>Yangon</td>\n",
       "      <td>Member</td>\n",
       "      <td>Female</td>\n",
       "      <td>Health and beauty</td>\n",
       "      <td>74.69</td>\n",
       "      <td>7</td>\n",
       "      <td>26.1415</td>\n",
       "      <td>548.9715</td>\n",
       "      <td>1/5/2019</td>\n",
       "      <td>13:08</td>\n",
       "      <td>Ewallet</td>\n",
       "      <td>522.83</td>\n",
       "      <td>4.761905</td>\n",
       "      <td>26.1415</td>\n",
       "      <td>9.1</td>\n",
       "    </tr>\n",
       "    <tr>\n",
       "      <th>1</th>\n",
       "      <td>226-31-3081</td>\n",
       "      <td>C</td>\n",
       "      <td>Naypyitaw</td>\n",
       "      <td>Normal</td>\n",
       "      <td>Female</td>\n",
       "      <td>Electronic accessories</td>\n",
       "      <td>15.28</td>\n",
       "      <td>5</td>\n",
       "      <td>3.8200</td>\n",
       "      <td>80.2200</td>\n",
       "      <td>3/8/2019</td>\n",
       "      <td>10:29</td>\n",
       "      <td>Cash</td>\n",
       "      <td>76.40</td>\n",
       "      <td>4.761905</td>\n",
       "      <td>3.8200</td>\n",
       "      <td>9.6</td>\n",
       "    </tr>\n",
       "    <tr>\n",
       "      <th>2</th>\n",
       "      <td>631-41-3108</td>\n",
       "      <td>A</td>\n",
       "      <td>Yangon</td>\n",
       "      <td>Normal</td>\n",
       "      <td>Male</td>\n",
       "      <td>Home and lifestyle</td>\n",
       "      <td>46.33</td>\n",
       "      <td>7</td>\n",
       "      <td>16.2155</td>\n",
       "      <td>340.5255</td>\n",
       "      <td>3/3/2019</td>\n",
       "      <td>13:23</td>\n",
       "      <td>Credit card</td>\n",
       "      <td>324.31</td>\n",
       "      <td>4.761905</td>\n",
       "      <td>16.2155</td>\n",
       "      <td>7.4</td>\n",
       "    </tr>\n",
       "    <tr>\n",
       "      <th>3</th>\n",
       "      <td>123-19-1176</td>\n",
       "      <td>A</td>\n",
       "      <td>Yangon</td>\n",
       "      <td>Member</td>\n",
       "      <td>Male</td>\n",
       "      <td>Health and beauty</td>\n",
       "      <td>58.22</td>\n",
       "      <td>8</td>\n",
       "      <td>23.2880</td>\n",
       "      <td>489.0480</td>\n",
       "      <td>1/27/2019</td>\n",
       "      <td>20:33</td>\n",
       "      <td>Ewallet</td>\n",
       "      <td>465.76</td>\n",
       "      <td>4.761905</td>\n",
       "      <td>23.2880</td>\n",
       "      <td>8.4</td>\n",
       "    </tr>\n",
       "    <tr>\n",
       "      <th>4</th>\n",
       "      <td>373-73-7910</td>\n",
       "      <td>A</td>\n",
       "      <td>Yangon</td>\n",
       "      <td>Normal</td>\n",
       "      <td>Male</td>\n",
       "      <td>Sports and travel</td>\n",
       "      <td>86.31</td>\n",
       "      <td>7</td>\n",
       "      <td>30.2085</td>\n",
       "      <td>634.3785</td>\n",
       "      <td>2/8/2019</td>\n",
       "      <td>10:37</td>\n",
       "      <td>Ewallet</td>\n",
       "      <td>604.17</td>\n",
       "      <td>4.761905</td>\n",
       "      <td>30.2085</td>\n",
       "      <td>5.3</td>\n",
       "    </tr>\n",
       "  </tbody>\n",
       "</table>\n",
       "</div>"
      ],
      "text/plain": [
       "    Invoice ID Branch       City Customer type  Gender  \\\n",
       "0  750-67-8428      A     Yangon        Member  Female   \n",
       "1  226-31-3081      C  Naypyitaw        Normal  Female   \n",
       "2  631-41-3108      A     Yangon        Normal    Male   \n",
       "3  123-19-1176      A     Yangon        Member    Male   \n",
       "4  373-73-7910      A     Yangon        Normal    Male   \n",
       "\n",
       "             Product line  Unit price  Quantity   Tax 5%     Total       Date  \\\n",
       "0       Health and beauty       74.69         7  26.1415  548.9715   1/5/2019   \n",
       "1  Electronic accessories       15.28         5   3.8200   80.2200   3/8/2019   \n",
       "2      Home and lifestyle       46.33         7  16.2155  340.5255   3/3/2019   \n",
       "3       Health and beauty       58.22         8  23.2880  489.0480  1/27/2019   \n",
       "4       Sports and travel       86.31         7  30.2085  634.3785   2/8/2019   \n",
       "\n",
       "    Time      Payment    cogs  gross margin percentage  gross income  Rating  \n",
       "0  13:08      Ewallet  522.83                 4.761905       26.1415     9.1  \n",
       "1  10:29         Cash   76.40                 4.761905        3.8200     9.6  \n",
       "2  13:23  Credit card  324.31                 4.761905       16.2155     7.4  \n",
       "3  20:33      Ewallet  465.76                 4.761905       23.2880     8.4  \n",
       "4  10:37      Ewallet  604.17                 4.761905       30.2085     5.3  "
      ]
     },
     "execution_count": 15,
     "metadata": {},
     "output_type": "execute_result"
    }
   ],
   "source": [
    "df.head()"
   ]
  },
  {
   "cell_type": "code",
   "execution_count": 17,
   "id": "e4fe0ac9-6e18-4917-9e0a-d6c794bf8268",
   "metadata": {},
   "outputs": [
    {
     "name": "stdout",
     "output_type": "stream",
     "text": [
      "<class 'pandas.core.frame.DataFrame'>\n",
      "RangeIndex: 1000 entries, 0 to 999\n",
      "Data columns (total 17 columns):\n",
      " #   Column                   Non-Null Count  Dtype  \n",
      "---  ------                   --------------  -----  \n",
      " 0   Invoice ID               1000 non-null   object \n",
      " 1   Branch                   1000 non-null   object \n",
      " 2   City                     1000 non-null   object \n",
      " 3   Customer type            1000 non-null   object \n",
      " 4   Gender                   1000 non-null   object \n",
      " 5   Product line             1000 non-null   object \n",
      " 6   Unit price               1000 non-null   float64\n",
      " 7   Quantity                 1000 non-null   int64  \n",
      " 8   Tax 5%                   1000 non-null   float64\n",
      " 9   Total                    1000 non-null   float64\n",
      " 10  Date                     1000 non-null   object \n",
      " 11  Time                     1000 non-null   object \n",
      " 12  Payment                  1000 non-null   object \n",
      " 13  cogs                     1000 non-null   float64\n",
      " 14  gross margin percentage  1000 non-null   float64\n",
      " 15  gross income             1000 non-null   float64\n",
      " 16  Rating                   1000 non-null   float64\n",
      "dtypes: float64(7), int64(1), object(9)\n",
      "memory usage: 132.9+ KB\n",
      "None\n"
     ]
    }
   ],
   "source": [
    "print(df.info()) "
   ]
  },
  {
   "cell_type": "code",
   "execution_count": 19,
   "id": "a6bd3cee-b8c0-4330-a812-41fedd82eb9a",
   "metadata": {},
   "outputs": [
    {
     "name": "stdout",
     "output_type": "stream",
     "text": [
      "Invoice ID                 0\n",
      "Branch                     0\n",
      "City                       0\n",
      "Customer type              0\n",
      "Gender                     0\n",
      "Product line               0\n",
      "Unit price                 0\n",
      "Quantity                   0\n",
      "Tax 5%                     0\n",
      "Total                      0\n",
      "Date                       0\n",
      "Time                       0\n",
      "Payment                    0\n",
      "cogs                       0\n",
      "gross margin percentage    0\n",
      "gross income               0\n",
      "Rating                     0\n",
      "dtype: int64\n"
     ]
    }
   ],
   "source": [
    "print(df.isnull().sum())"
   ]
  },
  {
   "cell_type": "code",
   "execution_count": 21,
   "id": "85748b01-765b-467a-a43c-4587d3532069",
   "metadata": {},
   "outputs": [],
   "source": [
    "# Convert Date column to proper format\n",
    "df['Date'] = pd.to_datetime(df['Date'], errors='coerce')"
   ]
  },
  {
   "cell_type": "code",
   "execution_count": 23,
   "id": "f2b0ffa5-d614-4eb6-8786-683eb758e239",
   "metadata": {},
   "outputs": [
    {
     "name": "stdout",
     "output_type": "stream",
     "text": [
      "<class 'pandas.core.frame.DataFrame'>\n",
      "RangeIndex: 1000 entries, 0 to 999\n",
      "Data columns (total 17 columns):\n",
      " #   Column                   Non-Null Count  Dtype         \n",
      "---  ------                   --------------  -----         \n",
      " 0   Invoice ID               1000 non-null   object        \n",
      " 1   Branch                   1000 non-null   object        \n",
      " 2   City                     1000 non-null   object        \n",
      " 3   Customer type            1000 non-null   object        \n",
      " 4   Gender                   1000 non-null   object        \n",
      " 5   Product line             1000 non-null   object        \n",
      " 6   Unit price               1000 non-null   float64       \n",
      " 7   Quantity                 1000 non-null   int64         \n",
      " 8   Tax 5%                   1000 non-null   float64       \n",
      " 9   Total                    1000 non-null   float64       \n",
      " 10  Date                     1000 non-null   datetime64[ns]\n",
      " 11  Time                     1000 non-null   object        \n",
      " 12  Payment                  1000 non-null   object        \n",
      " 13  cogs                     1000 non-null   float64       \n",
      " 14  gross margin percentage  1000 non-null   float64       \n",
      " 15  gross income             1000 non-null   float64       \n",
      " 16  Rating                   1000 non-null   float64       \n",
      "dtypes: datetime64[ns](1), float64(7), int64(1), object(8)\n",
      "memory usage: 132.9+ KB\n",
      "None\n"
     ]
    }
   ],
   "source": [
    "print(df.info())"
   ]
  },
  {
   "cell_type": "code",
   "execution_count": 25,
   "id": "175409b5-db9c-43ea-8c97-99579978b9b5",
   "metadata": {},
   "outputs": [],
   "source": [
    "# Rename columns for SQL compatibility\n",
    "df.columns = df.columns.str.lower().str.replace(\" \", \"_\")"
   ]
  },
  {
   "cell_type": "code",
   "execution_count": 27,
   "id": "69ee83bc-89bf-4e6f-a6c5-6ec21ea06e59",
   "metadata": {},
   "outputs": [
    {
     "name": "stdout",
     "output_type": "stream",
     "text": [
      "<class 'pandas.core.frame.DataFrame'>\n",
      "RangeIndex: 1000 entries, 0 to 999\n",
      "Data columns (total 17 columns):\n",
      " #   Column                   Non-Null Count  Dtype         \n",
      "---  ------                   --------------  -----         \n",
      " 0   invoice_id               1000 non-null   object        \n",
      " 1   branch                   1000 non-null   object        \n",
      " 2   city                     1000 non-null   object        \n",
      " 3   customer_type            1000 non-null   object        \n",
      " 4   gender                   1000 non-null   object        \n",
      " 5   product_line             1000 non-null   object        \n",
      " 6   unit_price               1000 non-null   float64       \n",
      " 7   quantity                 1000 non-null   int64         \n",
      " 8   tax_5%                   1000 non-null   float64       \n",
      " 9   total                    1000 non-null   float64       \n",
      " 10  date                     1000 non-null   datetime64[ns]\n",
      " 11  time                     1000 non-null   object        \n",
      " 12  payment                  1000 non-null   object        \n",
      " 13  cogs                     1000 non-null   float64       \n",
      " 14  gross_margin_percentage  1000 non-null   float64       \n",
      " 15  gross_income             1000 non-null   float64       \n",
      " 16  rating                   1000 non-null   float64       \n",
      "dtypes: datetime64[ns](1), float64(7), int64(1), object(8)\n",
      "memory usage: 132.9+ KB\n",
      "None\n"
     ]
    }
   ],
   "source": [
    "print(df.info())"
   ]
  },
  {
   "cell_type": "code",
   "execution_count": 29,
   "id": "96540c94-964e-4456-abc3-47e11b533d8d",
   "metadata": {},
   "outputs": [],
   "source": [
    "# Drop duplicates\n",
    "df = df.drop_duplicates()"
   ]
  },
  {
   "cell_type": "code",
   "execution_count": 31,
   "id": "9390b9b9-3141-41cc-8695-c859ae9b006b",
   "metadata": {},
   "outputs": [
    {
     "name": "stdout",
     "output_type": "stream",
     "text": [
      "<class 'pandas.core.frame.DataFrame'>\n",
      "RangeIndex: 1000 entries, 0 to 999\n",
      "Data columns (total 17 columns):\n",
      " #   Column                   Non-Null Count  Dtype         \n",
      "---  ------                   --------------  -----         \n",
      " 0   invoice_id               1000 non-null   object        \n",
      " 1   branch                   1000 non-null   object        \n",
      " 2   city                     1000 non-null   object        \n",
      " 3   customer_type            1000 non-null   object        \n",
      " 4   gender                   1000 non-null   object        \n",
      " 5   product_line             1000 non-null   object        \n",
      " 6   unit_price               1000 non-null   float64       \n",
      " 7   quantity                 1000 non-null   int64         \n",
      " 8   tax_5%                   1000 non-null   float64       \n",
      " 9   total                    1000 non-null   float64       \n",
      " 10  date                     1000 non-null   datetime64[ns]\n",
      " 11  time                     1000 non-null   object        \n",
      " 12  payment                  1000 non-null   object        \n",
      " 13  cogs                     1000 non-null   float64       \n",
      " 14  gross_margin_percentage  1000 non-null   float64       \n",
      " 15  gross_income             1000 non-null   float64       \n",
      " 16  rating                   1000 non-null   float64       \n",
      "dtypes: datetime64[ns](1), float64(7), int64(1), object(8)\n",
      "memory usage: 132.9+ KB\n",
      "None\n"
     ]
    }
   ],
   "source": [
    "print(df.info())"
   ]
  },
  {
   "cell_type": "code",
   "execution_count": 33,
   "id": "52fd4073-27ac-4baa-844e-34cfc996ad26",
   "metadata": {},
   "outputs": [
    {
     "data": {
      "text/plain": [
       "'2.0.34'"
      ]
     },
     "execution_count": 33,
     "metadata": {},
     "output_type": "execute_result"
    }
   ],
   "source": [
    "import sqlalchemy\n",
    "sqlalchemy.__version__"
   ]
  },
  {
   "cell_type": "code",
   "execution_count": null,
   "id": "14b711e2-375b-41d0-9e06-773baa301d10",
   "metadata": {},
   "outputs": [],
   "source": []
  }
 ],
 "metadata": {
  "kernelspec": {
   "display_name": "Python [conda env:base] *",
   "language": "python",
   "name": "conda-base-py"
  },
  "language_info": {
   "codemirror_mode": {
    "name": "ipython",
    "version": 3
   },
   "file_extension": ".py",
   "mimetype": "text/x-python",
   "name": "python",
   "nbconvert_exporter": "python",
   "pygments_lexer": "ipython3",
   "version": "3.12.7"
  }
 },
 "nbformat": 4,
 "nbformat_minor": 5
}
